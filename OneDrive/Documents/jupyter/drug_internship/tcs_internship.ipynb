{
 "cells": [
  {
   "cell_type": "code",
   "execution_count": 48,
   "id": "10af30e8-6afb-49fb-9899-7888604bb0fe",
   "metadata": {},
   "outputs": [],
   "source": [
    "import pandas as pd\n",
    "import numpy as np\n",
    "import matplotlib.pyplot as plt\n"
   ]
  },
  {
   "cell_type": "code",
   "execution_count": 49,
   "id": "d174f819-84ec-4698-ab1a-93235032e211",
   "metadata": {},
   "outputs": [],
   "source": [
    "from sklearn.model_selection import train_test_split\n",
    "from sklearn.preprocessing import StandardScaler\n"
   ]
  },
  {
   "cell_type": "code",
   "execution_count": 50,
   "id": "a5eccd56-8076-4fdc-9bc9-65bacfad3888",
   "metadata": {},
   "outputs": [],
   "source": [
    "dataset=pd.read_csv(\"C:/Users/bhatk/OneDrive/Documents/jupyter/drug_internship/drugEffects.csv\")"
   ]
  },
  {
   "cell_type": "code",
   "execution_count": 51,
   "id": "97e15b47-5ed0-4268-b588-aa3f0e0f4b8a",
   "metadata": {},
   "outputs": [
    {
     "data": {
      "text/html": [
       "<div>\n",
       "<style scoped>\n",
       "    .dataframe tbody tr th:only-of-type {\n",
       "        vertical-align: middle;\n",
       "    }\n",
       "\n",
       "    .dataframe tbody tr th {\n",
       "        vertical-align: top;\n",
       "    }\n",
       "\n",
       "    .dataframe thead th {\n",
       "        text-align: right;\n",
       "    }\n",
       "</style>\n",
       "<table border=\"1\" class=\"dataframe\">\n",
       "  <thead>\n",
       "    <tr style=\"text-align: right;\">\n",
       "      <th></th>\n",
       "      <th>urlDrugName</th>\n",
       "      <th>rating</th>\n",
       "      <th>effectiveness</th>\n",
       "      <th>condition</th>\n",
       "      <th>sideEffects</th>\n",
       "    </tr>\n",
       "  </thead>\n",
       "  <tbody>\n",
       "    <tr>\n",
       "      <th>0</th>\n",
       "      <td>biaxin</td>\n",
       "      <td>9</td>\n",
       "      <td>Considerably Effective</td>\n",
       "      <td>sinus infection</td>\n",
       "      <td>Mild Side Effects</td>\n",
       "    </tr>\n",
       "    <tr>\n",
       "      <th>1</th>\n",
       "      <td>lamictal</td>\n",
       "      <td>9</td>\n",
       "      <td>Highly Effective</td>\n",
       "      <td>bipolar disorder</td>\n",
       "      <td>Mild Side Effects</td>\n",
       "    </tr>\n",
       "    <tr>\n",
       "      <th>2</th>\n",
       "      <td>depakene</td>\n",
       "      <td>4</td>\n",
       "      <td>Moderately Effective</td>\n",
       "      <td>bipolar disorder</td>\n",
       "      <td>Severe Side Effects</td>\n",
       "    </tr>\n",
       "    <tr>\n",
       "      <th>3</th>\n",
       "      <td>sarafem</td>\n",
       "      <td>10</td>\n",
       "      <td>Highly Effective</td>\n",
       "      <td>bi-polar / anxiety</td>\n",
       "      <td>No Side Effects</td>\n",
       "    </tr>\n",
       "    <tr>\n",
       "      <th>4</th>\n",
       "      <td>accutane</td>\n",
       "      <td>10</td>\n",
       "      <td>Highly Effective</td>\n",
       "      <td>nodular acne</td>\n",
       "      <td>Mild Side Effects</td>\n",
       "    </tr>\n",
       "    <tr>\n",
       "      <th>...</th>\n",
       "      <td>...</td>\n",
       "      <td>...</td>\n",
       "      <td>...</td>\n",
       "      <td>...</td>\n",
       "      <td>...</td>\n",
       "    </tr>\n",
       "    <tr>\n",
       "      <th>1031</th>\n",
       "      <td>accutane</td>\n",
       "      <td>7</td>\n",
       "      <td>Considerably Effective</td>\n",
       "      <td>acne vulgaris</td>\n",
       "      <td>Severe Side Effects</td>\n",
       "    </tr>\n",
       "    <tr>\n",
       "      <th>1032</th>\n",
       "      <td>proair-hfa</td>\n",
       "      <td>10</td>\n",
       "      <td>Highly Effective</td>\n",
       "      <td>asthma</td>\n",
       "      <td>No Side Effects</td>\n",
       "    </tr>\n",
       "    <tr>\n",
       "      <th>1033</th>\n",
       "      <td>accutane</td>\n",
       "      <td>8</td>\n",
       "      <td>Considerably Effective</td>\n",
       "      <td>serve acne</td>\n",
       "      <td>Moderate Side Effects</td>\n",
       "    </tr>\n",
       "    <tr>\n",
       "      <th>1034</th>\n",
       "      <td>divigel</td>\n",
       "      <td>10</td>\n",
       "      <td>Highly Effective</td>\n",
       "      <td>menopause</td>\n",
       "      <td>No Side Effects</td>\n",
       "    </tr>\n",
       "    <tr>\n",
       "      <th>1035</th>\n",
       "      <td>claripel-cream</td>\n",
       "      <td>8</td>\n",
       "      <td>Considerably Effective</td>\n",
       "      <td>acne scarring &amp; hyperpigmentation</td>\n",
       "      <td>Mild Side Effects</td>\n",
       "    </tr>\n",
       "  </tbody>\n",
       "</table>\n",
       "<p>1036 rows × 5 columns</p>\n",
       "</div>"
      ],
      "text/plain": [
       "         urlDrugName  rating           effectiveness  \\\n",
       "0             biaxin       9  Considerably Effective   \n",
       "1           lamictal       9        Highly Effective   \n",
       "2           depakene       4    Moderately Effective   \n",
       "3            sarafem      10        Highly Effective   \n",
       "4           accutane      10        Highly Effective   \n",
       "...              ...     ...                     ...   \n",
       "1031        accutane       7  Considerably Effective   \n",
       "1032      proair-hfa      10        Highly Effective   \n",
       "1033        accutane       8  Considerably Effective   \n",
       "1034         divigel      10        Highly Effective   \n",
       "1035  claripel-cream       8  Considerably Effective   \n",
       "\n",
       "                              condition            sideEffects  \n",
       "0                       sinus infection      Mild Side Effects  \n",
       "1                      bipolar disorder      Mild Side Effects  \n",
       "2                      bipolar disorder    Severe Side Effects  \n",
       "3                    bi-polar / anxiety        No Side Effects  \n",
       "4                          nodular acne      Mild Side Effects  \n",
       "...                                 ...                    ...  \n",
       "1031                      acne vulgaris    Severe Side Effects  \n",
       "1032                             asthma        No Side Effects  \n",
       "1033                         serve acne  Moderate Side Effects  \n",
       "1034                          menopause        No Side Effects  \n",
       "1035  acne scarring & hyperpigmentation      Mild Side Effects  \n",
       "\n",
       "[1036 rows x 5 columns]"
      ]
     },
     "execution_count": 51,
     "metadata": {},
     "output_type": "execute_result"
    }
   ],
   "source": [
    "dataset"
   ]
  },
  {
   "cell_type": "code",
   "execution_count": 52,
   "id": "7b3c1bc8-1a66-4819-b93a-da9823fd40db",
   "metadata": {},
   "outputs": [
    {
     "data": {
      "text/html": [
       "<div>\n",
       "<style scoped>\n",
       "    .dataframe tbody tr th:only-of-type {\n",
       "        vertical-align: middle;\n",
       "    }\n",
       "\n",
       "    .dataframe tbody tr th {\n",
       "        vertical-align: top;\n",
       "    }\n",
       "\n",
       "    .dataframe thead th {\n",
       "        text-align: right;\n",
       "    }\n",
       "</style>\n",
       "<table border=\"1\" class=\"dataframe\">\n",
       "  <thead>\n",
       "    <tr style=\"text-align: right;\">\n",
       "      <th></th>\n",
       "      <th>urlDrugName</th>\n",
       "      <th>rating</th>\n",
       "      <th>effectiveness</th>\n",
       "      <th>condition</th>\n",
       "      <th>sideEffects</th>\n",
       "    </tr>\n",
       "  </thead>\n",
       "  <tbody>\n",
       "    <tr>\n",
       "      <th>0</th>\n",
       "      <td>biaxin</td>\n",
       "      <td>9</td>\n",
       "      <td>Considerably Effective</td>\n",
       "      <td>sinus infection</td>\n",
       "      <td>Mild Side Effects</td>\n",
       "    </tr>\n",
       "    <tr>\n",
       "      <th>1</th>\n",
       "      <td>lamictal</td>\n",
       "      <td>9</td>\n",
       "      <td>Highly Effective</td>\n",
       "      <td>bipolar disorder</td>\n",
       "      <td>Mild Side Effects</td>\n",
       "    </tr>\n",
       "    <tr>\n",
       "      <th>2</th>\n",
       "      <td>depakene</td>\n",
       "      <td>4</td>\n",
       "      <td>Moderately Effective</td>\n",
       "      <td>bipolar disorder</td>\n",
       "      <td>Severe Side Effects</td>\n",
       "    </tr>\n",
       "    <tr>\n",
       "      <th>3</th>\n",
       "      <td>sarafem</td>\n",
       "      <td>10</td>\n",
       "      <td>Highly Effective</td>\n",
       "      <td>bi-polar / anxiety</td>\n",
       "      <td>No Side Effects</td>\n",
       "    </tr>\n",
       "    <tr>\n",
       "      <th>4</th>\n",
       "      <td>accutane</td>\n",
       "      <td>10</td>\n",
       "      <td>Highly Effective</td>\n",
       "      <td>nodular acne</td>\n",
       "      <td>Mild Side Effects</td>\n",
       "    </tr>\n",
       "    <tr>\n",
       "      <th>5</th>\n",
       "      <td>biaxin</td>\n",
       "      <td>2</td>\n",
       "      <td>Marginally Effective</td>\n",
       "      <td>sinus infection</td>\n",
       "      <td>No Side Effects</td>\n",
       "    </tr>\n",
       "    <tr>\n",
       "      <th>6</th>\n",
       "      <td>carbamazepine</td>\n",
       "      <td>8</td>\n",
       "      <td>Considerably Effective</td>\n",
       "      <td>seizure</td>\n",
       "      <td>Moderate Side Effects</td>\n",
       "    </tr>\n",
       "    <tr>\n",
       "      <th>7</th>\n",
       "      <td>ultram-er</td>\n",
       "      <td>10</td>\n",
       "      <td>Highly Effective</td>\n",
       "      <td>cervical disk degeneration and lower back pain</td>\n",
       "      <td>Mild Side Effects</td>\n",
       "    </tr>\n",
       "    <tr>\n",
       "      <th>8</th>\n",
       "      <td>klonopin</td>\n",
       "      <td>10</td>\n",
       "      <td>Highly Effective</td>\n",
       "      <td>panic disorder</td>\n",
       "      <td>No Side Effects</td>\n",
       "    </tr>\n",
       "    <tr>\n",
       "      <th>9</th>\n",
       "      <td>effexor</td>\n",
       "      <td>1</td>\n",
       "      <td>Marginally Effective</td>\n",
       "      <td>depression</td>\n",
       "      <td>Extremely Severe Side Effects</td>\n",
       "    </tr>\n",
       "    <tr>\n",
       "      <th>10</th>\n",
       "      <td>lyrica</td>\n",
       "      <td>3</td>\n",
       "      <td>Moderately Effective</td>\n",
       "      <td>fibromyalgia</td>\n",
       "      <td>Moderate Side Effects</td>\n",
       "    </tr>\n",
       "    <tr>\n",
       "      <th>11</th>\n",
       "      <td>valtrex</td>\n",
       "      <td>9</td>\n",
       "      <td>Highly Effective</td>\n",
       "      <td>cold sores</td>\n",
       "      <td>Mild Side Effects</td>\n",
       "    </tr>\n",
       "    <tr>\n",
       "      <th>12</th>\n",
       "      <td>provigil</td>\n",
       "      <td>6</td>\n",
       "      <td>Moderately Effective</td>\n",
       "      <td>chronic fatigue</td>\n",
       "      <td>No Side Effects</td>\n",
       "    </tr>\n",
       "    <tr>\n",
       "      <th>13</th>\n",
       "      <td>maxalt</td>\n",
       "      <td>10</td>\n",
       "      <td>Highly Effective</td>\n",
       "      <td>migraine</td>\n",
       "      <td>Mild Side Effects</td>\n",
       "    </tr>\n",
       "    <tr>\n",
       "      <th>14</th>\n",
       "      <td>xanax</td>\n",
       "      <td>5</td>\n",
       "      <td>Moderately Effective</td>\n",
       "      <td>anxiety</td>\n",
       "      <td>Mild Side Effects</td>\n",
       "    </tr>\n",
       "  </tbody>\n",
       "</table>\n",
       "</div>"
      ],
      "text/plain": [
       "      urlDrugName  rating           effectiveness  \\\n",
       "0          biaxin       9  Considerably Effective   \n",
       "1        lamictal       9        Highly Effective   \n",
       "2        depakene       4    Moderately Effective   \n",
       "3         sarafem      10        Highly Effective   \n",
       "4        accutane      10        Highly Effective   \n",
       "5          biaxin       2    Marginally Effective   \n",
       "6   carbamazepine       8  Considerably Effective   \n",
       "7       ultram-er      10        Highly Effective   \n",
       "8        klonopin      10        Highly Effective   \n",
       "9         effexor       1    Marginally Effective   \n",
       "10         lyrica       3    Moderately Effective   \n",
       "11        valtrex       9        Highly Effective   \n",
       "12       provigil       6    Moderately Effective   \n",
       "13         maxalt      10        Highly Effective   \n",
       "14          xanax       5    Moderately Effective   \n",
       "\n",
       "                                         condition  \\\n",
       "0                                  sinus infection   \n",
       "1                                 bipolar disorder   \n",
       "2                                 bipolar disorder   \n",
       "3                               bi-polar / anxiety   \n",
       "4                                     nodular acne   \n",
       "5                                  sinus infection   \n",
       "6                                          seizure   \n",
       "7   cervical disk degeneration and lower back pain   \n",
       "8                                   panic disorder   \n",
       "9                                       depression   \n",
       "10                                    fibromyalgia   \n",
       "11                                      cold sores   \n",
       "12                                 chronic fatigue   \n",
       "13                                        migraine   \n",
       "14                                         anxiety   \n",
       "\n",
       "                      sideEffects  \n",
       "0               Mild Side Effects  \n",
       "1               Mild Side Effects  \n",
       "2             Severe Side Effects  \n",
       "3                 No Side Effects  \n",
       "4               Mild Side Effects  \n",
       "5                 No Side Effects  \n",
       "6           Moderate Side Effects  \n",
       "7               Mild Side Effects  \n",
       "8                 No Side Effects  \n",
       "9   Extremely Severe Side Effects  \n",
       "10          Moderate Side Effects  \n",
       "11              Mild Side Effects  \n",
       "12                No Side Effects  \n",
       "13              Mild Side Effects  \n",
       "14              Mild Side Effects  "
      ]
     },
     "execution_count": 52,
     "metadata": {},
     "output_type": "execute_result"
    }
   ],
   "source": [
    "dataset.head(15)"
   ]
  },
  {
   "cell_type": "code",
   "execution_count": 53,
   "id": "c377c524-f254-4de1-95a4-a36d348c60f5",
   "metadata": {},
   "outputs": [
    {
     "data": {
      "text/plain": [
       "<Axes: xlabel='urlDrugName'>"
      ]
     },
     "execution_count": 53,
     "metadata": {},
     "output_type": "execute_result"
    },
    {
     "data": {
      "image/png": "[encoded data removed]",
      "text/plain": [
       "<Figure size 640x480 with 1 Axes>"
      ]
     },
     "metadata": {},
     "output_type": "display_data"
    }
   ],
   "source": [
    "dataset['urlDrugName'].value_counts().head(15).plot(kind='bar')"
   ]
  },
  {
   "cell_type": "code",
   "execution_count": 54,
   "id": "4768b8fb-8086-4e47-a0f0-cdcd27c5974c",
   "metadata": {},
   "outputs": [
    {
     "data": {
      "text/plain": [
       "<Axes: xlabel='rating'>"
      ]
     },
     "execution_count": 54,
     "metadata": {},
     "output_type": "execute_result"
    },
    {
     "data": {
      "image/png": "[encoded data removed]",
      "text/plain": [
       "<Figure size 640x480 with 1 Axes>"
      ]
     },
     "metadata": {},
     "output_type": "display_data"
    }
   ],
   "source": [
    "dataset['rating'].value_counts().plot(kind='bar')\n"
   ]
  },
  {
   "cell_type": "code",
   "execution_count": 55,
   "id": "60380858-b901-4fff-87c1-20019667dbb2",
   "metadata": {},
   "outputs": [
    {
     "data": {
      "text/plain": [
       "<Axes: ylabel='count'>"
      ]
     },
     "execution_count": 55,
     "metadata": {},
     "output_type": "execute_result"
    },
    {
     "data": {
      "image/png": "[encoded data removed]",
      "text/plain": [
       "<Figure size 640x480 with 1 Axes>"
      ]
     },
     "metadata": {},
     "output_type": "display_data"
    }
   ],
   "source": [
    "\n",
    "dataset['effectiveness'].value_counts().plot(kind='pie')\n"
   ]
  },
  {
   "cell_type": "code",
   "execution_count": 56,
   "id": "27bf4f22-20b4-4547-ac9b-323f531a7df7",
   "metadata": {},
   "outputs": [
    {
     "data": {
      "text/plain": [
       "condition\n",
       "depression                                        66\n",
       "acne                                              46\n",
       "anxiety                                           27\n",
       "insomnia                                          21\n",
       "high blood pressure                               20\n",
       "                                                  ..\n",
       "tobacco addiction                                  1\n",
       "diarreah                                           1\n",
       "chronic fatigue                                    1\n",
       "cervical disk degeneration and lower back pain     1\n",
       "seizure                                            1\n",
       "Name: count, Length: 566, dtype: int64"
      ]
     },
     "execution_count": 56,
     "metadata": {},
     "output_type": "execute_result"
    }
   ],
   "source": [
    "dataset['condition'].value_counts()"
   ]
  },
  {
   "cell_type": "code",
   "execution_count": 57,
   "id": "8dded25b-cd90-4f08-a796-41ad72aac234",
   "metadata": {},
   "outputs": [
    {
     "data": {
      "text/plain": [
       "<Axes: ylabel='count'>"
      ]
     },
     "execution_count": 57,
     "metadata": {},
     "output_type": "execute_result"
    },
    {
     "data": {
      "image/png": "[encoded data removed]",
      "text/plain": [
       "<Figure size 640x480 with 1 Axes>"
      ]
     },
     "metadata": {},
     "output_type": "display_data"
    }
   ],
   "source": [
    "dataset['sideEffects'].value_counts().plot(kind='pie')"
   ]
  },
  {
   "cell_type": "code",
   "execution_count": 58,
   "id": "c1cb51a8-586e-4bc1-8693-5597f7237a3b",
   "metadata": {},
   "outputs": [
    {
     "data": {
      "text/html": [
       "<div>\n",
       "<style scoped>\n",
       "    .dataframe tbody tr th:only-of-type {\n",
       "        vertical-align: middle;\n",
       "    }\n",
       "\n",
       "    .dataframe tbody tr th {\n",
       "        vertical-align: top;\n",
       "    }\n",
       "\n",
       "    .dataframe thead th {\n",
       "        text-align: right;\n",
       "    }\n",
       "</style>\n",
       "<table border=\"1\" class=\"dataframe\">\n",
       "  <thead>\n",
       "    <tr style=\"text-align: right;\">\n",
       "      <th></th>\n",
       "      <th>urlDrugName</th>\n",
       "      <th>rating</th>\n",
       "      <th>effectiveness</th>\n",
       "      <th>condition</th>\n",
       "      <th>sideEffects</th>\n",
       "    </tr>\n",
       "  </thead>\n",
       "  <tbody>\n",
       "    <tr>\n",
       "      <th>0</th>\n",
       "      <td>biaxin</td>\n",
       "      <td>9</td>\n",
       "      <td>Considerably Effective</td>\n",
       "      <td>sinus infection</td>\n",
       "      <td>Mild Side Effects</td>\n",
       "    </tr>\n",
       "    <tr>\n",
       "      <th>1</th>\n",
       "      <td>lamictal</td>\n",
       "      <td>9</td>\n",
       "      <td>Highly Effective</td>\n",
       "      <td>bipolar disorder</td>\n",
       "      <td>Mild Side Effects</td>\n",
       "    </tr>\n",
       "    <tr>\n",
       "      <th>2</th>\n",
       "      <td>depakene</td>\n",
       "      <td>4</td>\n",
       "      <td>Moderately Effective</td>\n",
       "      <td>bipolar disorder</td>\n",
       "      <td>Severe Side Effects</td>\n",
       "    </tr>\n",
       "    <tr>\n",
       "      <th>3</th>\n",
       "      <td>sarafem</td>\n",
       "      <td>10</td>\n",
       "      <td>Highly Effective</td>\n",
       "      <td>bi-polar / anxiety</td>\n",
       "      <td>No Side Effects</td>\n",
       "    </tr>\n",
       "    <tr>\n",
       "      <th>4</th>\n",
       "      <td>accutane</td>\n",
       "      <td>10</td>\n",
       "      <td>Highly Effective</td>\n",
       "      <td>nodular acne</td>\n",
       "      <td>Mild Side Effects</td>\n",
       "    </tr>\n",
       "  </tbody>\n",
       "</table>\n",
       "</div>"
      ],
      "text/plain": [
       "  urlDrugName  rating           effectiveness           condition  \\\n",
       "0      biaxin       9  Considerably Effective     sinus infection   \n",
       "1    lamictal       9        Highly Effective    bipolar disorder   \n",
       "2    depakene       4    Moderately Effective    bipolar disorder   \n",
       "3     sarafem      10        Highly Effective  bi-polar / anxiety   \n",
       "4    accutane      10        Highly Effective        nodular acne   \n",
       "\n",
       "           sideEffects  \n",
       "0    Mild Side Effects  \n",
       "1    Mild Side Effects  \n",
       "2  Severe Side Effects  \n",
       "3      No Side Effects  \n",
       "4    Mild Side Effects  "
      ]
     },
     "execution_count": 58,
     "metadata": {},
     "output_type": "execute_result"
    }
   ],
   "source": [
    "dataset.head()"
   ]
  },
  {
   "cell_type": "code",
   "execution_count": 59,
   "id": "c206c10a-c41a-4909-936c-2900278ff4d4",
   "metadata": {},
   "outputs": [],
   "source": [
    "from sklearn.preprocessing import LabelEncoder\n"
   ]
  },
  {
   "cell_type": "code",
   "execution_count": 60,
   "id": "a5710f7a-705c-49c9-bc4f-d2089770f9ba",
   "metadata": {},
   "outputs": [],
   "source": [
    "le_effect=LabelEncoder()\n",
    "le_condition=LabelEncoder()\n",
    "le_side=LabelEncoder()\n",
    "le_names=LabelEncoder()"
   ]
  },
  {
   "cell_type": "code",
   "execution_count": 61,
   "id": "be549930-70ae-46ed-9c27-38a738fff1fc",
   "metadata": {},
   "outputs": [],
   "source": [
    "dataset.effectiveness=le_effect.fit_transform(dataset.effectiveness)\n",
    "dataset.condition=le_condition.fit_transform(dataset.condition)\n",
    "dataset.sideEffects=le_side.fit_transform(dataset.sideEffects)\n",
    "dataset.urlDrugName\t=le_names.fit_transform(dataset.urlDrugName)"
   ]
  },
  {
   "cell_type": "code",
   "execution_count": 62,
   "id": "453f97a4-3974-45fd-b846-d7c522bed302",
   "metadata": {},
   "outputs": [
    {
     "data": {
      "text/html": [
       "<div>\n",
       "<style scoped>\n",
       "    .dataframe tbody tr th:only-of-type {\n",
       "        vertical-align: middle;\n",
       "    }\n",
       "\n",
       "    .dataframe tbody tr th {\n",
       "        vertical-align: top;\n",
       "    }\n",
       "\n",
       "    .dataframe thead th {\n",
       "        text-align: right;\n",
       "    }\n",
       "</style>\n",
       "<table border=\"1\" class=\"dataframe\">\n",
       "  <thead>\n",
       "    <tr style=\"text-align: right;\">\n",
       "      <th></th>\n",
       "      <th>urlDrugName</th>\n",
       "      <th>rating</th>\n",
       "      <th>effectiveness</th>\n",
       "      <th>condition</th>\n",
       "      <th>sideEffects</th>\n",
       "    </tr>\n",
       "  </thead>\n",
       "  <tbody>\n",
       "    <tr>\n",
       "      <th>0</th>\n",
       "      <td>41</td>\n",
       "      <td>9</td>\n",
       "      <td>0</td>\n",
       "      <td>472</td>\n",
       "      <td>1</td>\n",
       "    </tr>\n",
       "    <tr>\n",
       "      <th>1</th>\n",
       "      <td>138</td>\n",
       "      <td>9</td>\n",
       "      <td>1</td>\n",
       "      <td>89</td>\n",
       "      <td>1</td>\n",
       "    </tr>\n",
       "    <tr>\n",
       "      <th>2</th>\n",
       "      <td>75</td>\n",
       "      <td>4</td>\n",
       "      <td>4</td>\n",
       "      <td>89</td>\n",
       "      <td>4</td>\n",
       "    </tr>\n",
       "    <tr>\n",
       "      <th>3</th>\n",
       "      <td>242</td>\n",
       "      <td>10</td>\n",
       "      <td>1</td>\n",
       "      <td>85</td>\n",
       "      <td>3</td>\n",
       "    </tr>\n",
       "    <tr>\n",
       "      <th>4</th>\n",
       "      <td>2</td>\n",
       "      <td>10</td>\n",
       "      <td>1</td>\n",
       "      <td>354</td>\n",
       "      <td>1</td>\n",
       "    </tr>\n",
       "    <tr>\n",
       "      <th>...</th>\n",
       "      <td>...</td>\n",
       "      <td>...</td>\n",
       "      <td>...</td>\n",
       "      <td>...</td>\n",
       "      <td>...</td>\n",
       "    </tr>\n",
       "    <tr>\n",
       "      <th>1031</th>\n",
       "      <td>2</td>\n",
       "      <td>7</td>\n",
       "      <td>0</td>\n",
       "      <td>17</td>\n",
       "      <td>4</td>\n",
       "    </tr>\n",
       "    <tr>\n",
       "      <th>1032</th>\n",
       "      <td>215</td>\n",
       "      <td>10</td>\n",
       "      <td>1</td>\n",
       "      <td>71</td>\n",
       "      <td>3</td>\n",
       "    </tr>\n",
       "    <tr>\n",
       "      <th>1033</th>\n",
       "      <td>2</td>\n",
       "      <td>8</td>\n",
       "      <td>0</td>\n",
       "      <td>451</td>\n",
       "      <td>2</td>\n",
       "    </tr>\n",
       "    <tr>\n",
       "      <th>1034</th>\n",
       "      <td>89</td>\n",
       "      <td>10</td>\n",
       "      <td>1</td>\n",
       "      <td>316</td>\n",
       "      <td>3</td>\n",
       "    </tr>\n",
       "    <tr>\n",
       "      <th>1035</th>\n",
       "      <td>56</td>\n",
       "      <td>8</td>\n",
       "      <td>0</td>\n",
       "      <td>16</td>\n",
       "      <td>1</td>\n",
       "    </tr>\n",
       "  </tbody>\n",
       "</table>\n",
       "<p>1036 rows × 5 columns</p>\n",
       "</div>"
      ],
      "text/plain": [
       "      urlDrugName  rating  effectiveness  condition  sideEffects\n",
       "0              41       9              0        472            1\n",
       "1             138       9              1         89            1\n",
       "2              75       4              4         89            4\n",
       "3             242      10              1         85            3\n",
       "4               2      10              1        354            1\n",
       "...           ...     ...            ...        ...          ...\n",
       "1031            2       7              0         17            4\n",
       "1032          215      10              1         71            3\n",
       "1033            2       8              0        451            2\n",
       "1034           89      10              1        316            3\n",
       "1035           56       8              0         16            1\n",
       "\n",
       "[1036 rows x 5 columns]"
      ]
     },
     "execution_count": 62,
     "metadata": {},
     "output_type": "execute_result"
    }
   ],
   "source": [
    "dataset"
   ]
  },
  {
   "cell_type": "code",
   "execution_count": 63,
   "id": "92d65f45-51db-4eb9-824d-d22babdd1e34",
   "metadata": {},
   "outputs": [
    {
     "data": {
      "text/plain": [
       "array([[-1.29914342,  0.75039321, -1.00463758,  1.4238704 , -0.87676922],\n",
       "       [-0.2481994 ,  0.75039321, -0.27731086, -0.95553143, -0.87676922],\n",
       "       [-0.93077129, -0.93012422,  1.90466929, -0.95553143,  1.69884395],\n",
       "       ...,\n",
       "       [-1.72168793,  0.41428972, -1.00463758,  1.29340711, -0.0182315 ],\n",
       "       [-0.77908865,  1.08649669, -0.27731086,  0.45471456,  0.84030623],\n",
       "       [-1.13662631,  0.41428972, -1.00463758, -1.40904666, -0.87676922]])"
      ]
     },
     "execution_count": 63,
     "metadata": {},
     "output_type": "execute_result"
    }
   ],
   "source": [
    "scaler = StandardScaler()\n",
    "dataset = scaler.fit_transform(dataset)\n",
    "\n",
    "dataset"
   ]
  },
  {
   "cell_type": "code",
   "execution_count": 65,
   "id": "35c68761-5327-46dd-a038-3796b97f9130",
   "metadata": {
    "scrolled": true
   },
   "outputs": [],
   "source": [
    "x = dataset[:, 0:4]  # Use standard NumPy slicing\n"
   ]
  },
  {
   "cell_type": "code",
   "execution_count": 66,
   "id": "e06deb56-89be-4081-af42-6f578892f70d",
   "metadata": {},
   "outputs": [
    {
     "data": {
      "text/plain": [
       "array([[-1.29914342,  0.75039321, -1.00463758,  1.4238704 ],\n",
       "       [-0.2481994 ,  0.75039321, -0.27731086, -0.95553143],\n",
       "       [-0.93077129, -0.93012422,  1.90466929, -0.95553143],\n",
       "       ...,\n",
       "       [-1.72168793,  0.41428972, -1.00463758,  1.29340711],\n",
       "       [-0.77908865,  1.08649669, -0.27731086,  0.45471456],\n",
       "       [-1.13662631,  0.41428972, -1.00463758, -1.40904666]])"
      ]
     },
     "execution_count": 66,
     "metadata": {},
     "output_type": "execute_result"
    }
   ],
   "source": [
    "x"
   ]
  },
  {
   "cell_type": "code",
   "execution_count": 67,
   "id": "b04c83ae-1ada-46db-a91d-d02e9463333c",
   "metadata": {},
   "outputs": [],
   "source": [
    "y=dataset[:,-1]"
   ]
  },
  {
   "cell_type": "code",
   "execution_count": 68,
   "id": "f855388e-56ec-4df4-b1c7-15ae11a032d4",
   "metadata": {},
   "outputs": [
    {
     "data": {
      "text/plain": [
       "array([-0.87676922, -0.87676922,  1.69884395, ..., -0.0182315 ,\n",
       "        0.84030623, -0.87676922])"
      ]
     },
     "execution_count": 68,
     "metadata": {},
     "output_type": "execute_result"
    }
   ],
   "source": [
    "y"
   ]
  },
  {
   "cell_type": "code",
   "execution_count": null,
   "id": "c800691c-46c2-4b3f-8644-04957dc64078",
   "metadata": {},
   "outputs": [],
   "source": []
  }
 ],
 "metadata": {
  "kernelspec": {
   "display_name": "Python 3 (ipykernel)",
   "language": "python",
   "name": "python3"
  },
  "language_info": {
   "codemirror_mode": {
    "name": "ipython",
    "version": 3
   },
   "file_extension": ".py",
   "mimetype": "text/x-python",
   "name": "python",
   "nbconvert_exporter": "python",
   "pygments_lexer": "ipython3",
   "version": "3.12.5"
  }
 },
 "nbformat": 4,
 "nbformat_minor": 5
}
